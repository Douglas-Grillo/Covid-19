{
  "nbformat": 4,
  "nbformat_minor": 0,
  "metadata": {
    "colab": {
      "provenance": [],
      "toc_visible": true
    },
    "kernelspec": {
      "name": "python3",
      "display_name": "Python 3"
    }
  },
  "cells": [
    {
      "cell_type": "code",
      "source": [
        "# Esse código Python foi escrito por Douglas Grillo.\n",
        "# Ele traz um modelo preditivo de propagação da Covid-19 por meio de lógica difusa.\n",
        "# Deixo aqui os créditos à Alison Zille Lopes, que foi autor de um código que utilizei como referência de estudo para o desenvolvimento deste.\n",
        "# A opção pela utilização da biblioteca Scikit-fuzzy foi devido a sua boa documentação de apoio, o que a faz uma das mais populares para Python.\n",
        "#\n",
        "# Verifica a versão do Python (Opcional)\n",
        "!python --version"
      ],
      "metadata": {
        "colab": {
          "base_uri": "https://localhost:8080/"
        },
        "id": "aOarGZSMFaO3",
        "outputId": "2b7e9eab-f2e4-438c-dd28-6af485554003"
      },
      "execution_count": 1,
      "outputs": [
        {
          "output_type": "stream",
          "name": "stdout",
          "text": [
            "Python 3.9.16\n"
          ]
        }
      ]
    },
    {
      "cell_type": "code",
      "metadata": {
        "id": "L5UJXWQz70aI"
      },
      "source": [
        "# Bloco1\n",
        "# Instação do pacote skfuzzy e matplotlib\n",
        "!pip install scikit-fuzzy\n",
        "!pip install matplotlib"
      ],
      "execution_count": null,
      "outputs": []
    },
    {
      "cell_type": "code",
      "metadata": {
        "id": "z4x5WO3U7dok"
      },
      "source": [
        "# Bloco 2\n",
        "# Fuzzificação\n",
        "import numpy as np\n",
        "import skfuzzy as fuzz\n",
        "from skfuzzy import control as ctrl\n",
        "\n",
        "# Criando as variáveis do problema\n",
        "NovosCasos = ctrl.Antecedent(np.arange(0, 606, 1), 'NovosCasos') #\n",
        "CVac = ctrl.Antecedent(np.arange(0, 100, 0.1), 'CVac')\n",
        "variacao = ctrl.Consequent(np.arange(-2.0, 2, 0.01), 'variacao')\n",
        "\n",
        "# Criando as funções de pertinência para a NovosCasos\n",
        "NovosCasos['B'] = fuzz.trapmf(NovosCasos.universe, [0, 0, 14, 25])                #Baixa\n",
        "NovosCasos['MB'] = fuzz.trimf(NovosCasos.universe, [20, 45, 67])                  #Média Baixa\n",
        "NovosCasos['M'] = fuzz.trimf(NovosCasos.universe, [62, 87, 108])                  #Média\n",
        "NovosCasos['MA'] = fuzz.trimf(NovosCasos.universe, [103, 129, 150])                #Média Alta\n",
        "NovosCasos['A'] = fuzz.trimf(NovosCasos.universe, [145, 324, 499])                #Alta\n",
        "NovosCasos['AL'] = fuzz.trapmf(NovosCasos.universe, [494, 501, 606, 606])         #Altíssima \n",
        "\n",
        "# Criando as funções de pertinência para a CVac\n",
        "CVac['NV'] = fuzz.trapmf(CVac.universe, [0, 0, 1.0, 1.0])                       #Sem vacinação\n",
        "CVac['BCV'] = fuzz.trapmf(CVac.universe, [1.0, 7, 23, 33])                       #Baixa Cobertura Vacinal\n",
        "CVac['MCV'] = fuzz.trapmf(CVac.universe, [23, 33, 47, 58])                        #Média Cobertura Vacinal\n",
        "CVac['ACV'] = fuzz.trapmf(CVac.universe, [47, 58, 72, 78.5])                      #Alta cobertura Vacinal\n",
        "CVac['QCV'] = fuzz.trapmf(CVac.universe, [72, 78.5, 92.5, 100])                  #Queda Cobertura Vacinal\n",
        "\n",
        "# Criando as funções de pertinência para TEC\n",
        "variacao['AN'] = fuzz.trapmf(variacao.universe, [-2.0, -2.0, -1.6, -1.2])           #Alta Negativa\n",
        "variacao['MN'] = fuzz.trimf(variacao.universe, [-1.6, -1.0, -0.4])                  #Média negativa\n",
        "variacao['BN'] = fuzz.trapmf(variacao.universe, [-0.8, -0.4, -0.0001, 0.0])         #Baixa Negativa\n",
        "variacao['BP'] = fuzz.trapmf(variacao.universe, [0.0, 0.0001, 0.4, 0.8])            #Baixa positiva\n",
        "variacao['MP'] = fuzz.trimf(variacao.universe, [0.4, 1.0, 1.6])                     #Média positiva\n",
        "variacao['AP'] = fuzz.trapmf(variacao.universe, [1.2, 1.6, 2.0, 2.0])               #Alta positiva\n",
        "\n"
      ],
      "execution_count": null,
      "outputs": []
    },
    {
      "cell_type": "code",
      "source": [
        "# Bloco 3\n",
        "# Plotando gráfico das funções de pertinência para cada variável\n",
        "NovosCasos.view()\n",
        "CVac.view()\n",
        "variacao.view()"
      ],
      "metadata": {
        "id": "TF33JSC6BKcW"
      },
      "execution_count": null,
      "outputs": []
    },
    {
      "cell_type": "code",
      "metadata": {
        "id": "RyfUfAbEPP63"
      },
      "source": [
        "# Bloco 4\n",
        "# Inferência Fuzzy\n",
        "\n",
        "# Base de Conhecimento/Regras\n",
        "rule1 = ctrl.Rule(NovosCasos['B'] & CVac['NV'], variacao['MP'])\n",
        "rule2 = ctrl.Rule(NovosCasos['B'] & CVac['BCV'], variacao['BP'])\n",
        "rule3 = ctrl.Rule(NovosCasos['B'] & CVac['MCV'], variacao['BN'])\n",
        "rule4 = ctrl.Rule(NovosCasos['B'] & CVac['ACV'], variacao['MN'])\n",
        "rule5 = ctrl.Rule(NovosCasos['B'] & CVac['QCV'], variacao['BN'])\n",
        "\n",
        "rule6 = ctrl.Rule(NovosCasos['MB'] & CVac['NV'], variacao['AP'])\n",
        "rule7 = ctrl.Rule(NovosCasos['MB'] & CVac['BCV'], variacao['MP'])\n",
        "rule8 = ctrl.Rule(NovosCasos['MB'] & CVac['MCV'], variacao['BN'])\n",
        "rule9 = ctrl.Rule(NovosCasos['MB'] & CVac['ACV'], variacao['MN'])\n",
        "rule10 = ctrl.Rule(NovosCasos['MB'] & CVac['QCV'], variacao['BN'])\n",
        "\n",
        "rule11 = ctrl.Rule(NovosCasos['M'] & CVac['NV'], variacao['AP'])\n",
        "rule12 = ctrl.Rule(NovosCasos['M'] & CVac['BCV'], variacao['AP'])\n",
        "rule13 = ctrl.Rule(NovosCasos['M'] & CVac['MCV'], variacao['MN'])\n",
        "rule14 = ctrl.Rule(NovosCasos['M'] & CVac['ACV'], variacao['MN'])\n",
        "rule15 = ctrl.Rule(NovosCasos['M'] & CVac['QCV'], variacao['MN'])\n",
        "\n",
        "rule16 = ctrl.Rule(NovosCasos['MA'] & CVac['NV'], variacao['MP'])\n",
        "rule17 = ctrl.Rule(NovosCasos['MA'] & CVac['BCV'], variacao['AP'])\n",
        "rule18 = ctrl.Rule(NovosCasos['MA'] & CVac['MCV'], variacao['MN'])\n",
        "rule19 = ctrl.Rule(NovosCasos['MA'] & CVac['ACV'], variacao['AN'])\n",
        "rule20 = ctrl.Rule(NovosCasos['MA'] & CVac['QCV'], variacao['MN'])\n",
        "\n",
        "rule21 = ctrl.Rule(NovosCasos['A'] & CVac['NV'], variacao['BP'])\n",
        "rule22 = ctrl.Rule(NovosCasos['A'] & CVac['BCV'], variacao['BP'])\n",
        "rule23 = ctrl.Rule(NovosCasos['A'] & CVac['MCV'], variacao['AN'])\n",
        "rule24 = ctrl.Rule(NovosCasos['A'] & CVac['ACV'], variacao['AN'])\n",
        "rule25 = ctrl.Rule(NovosCasos['A'] & CVac['QCV'], variacao['AN'])\n",
        "\n",
        "rule26 = ctrl.Rule(NovosCasos['AL'] & CVac['NV'], variacao['BP'])\n",
        "rule27 = ctrl.Rule(NovosCasos['AL'] & CVac['BCV'], variacao['BN'])\n",
        "rule28 = ctrl.Rule(NovosCasos['AL'] & CVac['MCV'], variacao['AN'])\n",
        "rule29 = ctrl.Rule(NovosCasos['AL'] & CVac['ACV'], variacao['AN'])\n",
        "rule30 = ctrl.Rule(NovosCasos['AL'] & CVac['QCV'], variacao['AN'])\n",
        "\n",
        "\n",
        "\n",
        "# Sistema Fuzzy e Simulação\n",
        "variacao_ctrl = ctrl.ControlSystem([rule1, rule2, rule3, rule3, rule4, rule5, rule6, rule7, rule8, rule9, rule10, rule11, rule12, rule13, rule14, rule15, rule16, rule17, rule18, rule19, rule20, rule21, rule22, rule23, rule24, rule25, rule26, rule27, rule28, rule29, rule30])\n",
        "variacao_simulador = ctrl.ControlSystemSimulation(variacao_ctrl)\n",
        "\n"
      ],
      "execution_count": null,
      "outputs": []
    },
    {
      "cell_type": "code",
      "source": [
        "# Bloco 5\n",
        "# Cálculo em massa\n",
        "# abrir a planilha\n",
        "import openpyxl\n",
        "workbook = openpyxl.load_workbook('dadosCov.xlsx')\n",
        "worksheet = workbook.active\n",
        "\n",
        "# percorrer todas as linhas da planilha, começando da segunda linha (linha 2)\n",
        "for row in range(2, worksheet.max_row + 1):\n",
        "    # ler os valores das colunas A e B do registro atual\n",
        "    valor_b = float(worksheet.cell(row=row, column=2).value)\n",
        "    valor_c = float(worksheet.cell(row=row, column=3).value)\n",
        "\n",
        "    # passar os valores como entradas para o sistema especialista\n",
        "    \n",
        "    variacao_simulador.input['NovosCasos'] = valor_b\n",
        "    variacao_simulador.input['CVac'] = valor_c\n",
        "    # chamar o método de inferência do sistema especialista para calcular o resultado\n",
        "    variacao_simulador.compute()\n",
        "    result = variacao_simulador.output['variacao']\n",
        "\n",
        "    # escrever o resultado na coluna C do registro atual\n",
        "    worksheet.cell(row=row, column=4).value = result\n",
        "   \n",
        "\n",
        "# salvar a planilha atualizada\n",
        "workbook.save('Saidasfuzzy.xlsx')\n"
      ],
      "metadata": {
        "id": "p7T76Z8BStOn"
      },
      "execution_count": null,
      "outputs": []
    },
    {
      "cell_type": "code",
      "source": [
        "# Bloco 6\n",
        "# Visualizando as regiões da última iteração\n",
        "NovosCasos.view(sim=variacao_simulador)\n",
        "CVac.view(sim=variacao_simulador)\n",
        "variacao.view(sim=variacao_simulador)"
      ],
      "metadata": {
        "id": "4iN5epqUWIaT"
      },
      "execution_count": null,
      "outputs": []
    },
    {
      "cell_type": "code",
      "source": [
        "# Bloco 7\n",
        "# Definindo o método de Euler\n",
        "import matplotlib.pylab as plt\n",
        "def it_euler(t, x, h, n_steps):      # t=tempo inicial, x=valor inicial de novos casos, h= tamanho do passo, n_steps=quantidade de iterações\n",
        "    X = [x]\n",
        "    T = [t]\n",
        "    #Criando o loop  \n",
        "    for k in range(n_steps + 1):\n",
        "        variacao_simulador.input['NovosCasos'] = x\n",
        "        variacao_simulador.input['CVac'] = 10\n",
        "        variacao_simulador.compute()  \n",
        "        var = variacao_simulador.output['variacao']\n",
        "        x += x * h * var\n",
        "        t += h\n",
        "        X.append(x)\n",
        "        T.append(t)\n",
        "    \n",
        "    #Armazenando os resultados\n",
        "    x_array = np.array(X)\n",
        "    t_array = np.array(T)\n",
        "\n",
        "    # Informações do plot\n",
        "    fig = plt.figure()\n",
        "    ax = fig.add_subplot(111, facecolor='w', axisbelow=True)\n",
        "    ax.plot(T, X, 'b', label = 'População') \n",
        "    ax.set_xlabel('Tempo')\n",
        "    ax.set_ylabel('Novos Casos')\n",
        "    plt.savefig('euler.png')\n",
        "    plt.ticklabel_format(style='plain', axis='y')\n",
        "    plt.show()  \n",
        "\n",
        "    # Salvar valores em arquivo CSV\n",
        "    np.savetxt(\"valores.csv\", np.column_stack((t_array, x_array)), delimiter=\",\")\n",
        "    # Método de Euler\n",
        "it_euler(0, 20, 0.001, 10000)   #Definir os valores de: Tempo inicial(t), população inicial(x), Tamanho do passo(h), iterações(n_steps) \n"
      ],
      "metadata": {
        "colab": {
          "base_uri": "https://localhost:8080/",
          "height": 449
        },
        "id": "jgChMuj9VmFD",
        "outputId": "3258b83a-07dd-45ef-9a6a-a7ae8dabe314"
      },
      "execution_count": null,
      "outputs": [
        {
          "output_type": "display_data",
          "data": {
            "text/plain": [
              "<Figure size 640x480 with 1 Axes>"
            ],
            "image/png": "[encoded data removed]"
          },
          "metadata": {}
        }
      ]
    }
  ]
}